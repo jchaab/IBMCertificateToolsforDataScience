{
 "cells": [
  {
   "cell_type": "markdown",
   "id": "63d58efe",
   "metadata": {},
   "source": [
    "# Data Science Tools and Ecosystem"
   ]
  },
  {
   "cell_type": "markdown",
   "id": "ce6a2002",
   "metadata": {},
   "source": [
    "## Author\n",
    "Jafar Chaab"
   ]
  },
  {
   "cell_type": "markdown",
   "id": "7e4cd2c2",
   "metadata": {},
   "source": [
    "In this notebook, Data Science Tools and Ecosystem are summarized."
   ]
  },
  {
   "cell_type": "markdown",
   "id": "cf81fcc3",
   "metadata": {},
   "source": [
    "__Objectives__ :\n",
    "\n",
    "- List popular languages for Data Science\n",
    "- List commonly used libraries in Data Science\n",
    "- List common tools used in Data Science\n",
    "- Show arithemetic examples in Jupyter Notebook"
   ]
  },
  {
   "cell_type": "markdown",
   "id": "7190eb2b",
   "metadata": {},
   "source": [
    "Some of the popular languages that Data Scientists use are:\n",
    "\n",
    "1. Python\n",
    "2. R\n",
    "3. C/C++\n",
    "4. Julia\n",
    "5. SQL"
   ]
  },
  {
   "cell_type": "markdown",
   "id": "6b4daea2",
   "metadata": {},
   "source": [
    "Some off the commonly used libraries used by Data Scientists include:\n",
    "\n",
    "1. Matplotlib\n",
    "2. PyTorch\n",
    "3. Numpy\n",
    "4. Pandas\n",
    "5. SciPy"
   ]
  },
  {
   "cell_type": "markdown",
   "id": "740da26c",
   "metadata": {},
   "source": [
    "| Data Science Tools | \n",
    "| -------------| \n",
    "| RStudio |\n",
    "| Spark | \n",
    "| Jupyter Notebook |\n",
    "| GitHub |\n",
    "| Spyder |"
   ]
  },
  {
   "cell_type": "markdown",
   "id": "19163b51",
   "metadata": {},
   "source": [
    "### Below are a few examples of evaluating arithmetic expressions in Python"
   ]
  },
  {
   "cell_type": "code",
   "execution_count": 2,
   "id": "0c1d7082",
   "metadata": {},
   "outputs": [
    {
     "data": {
      "text/plain": [
       "17"
      ]
     },
     "execution_count": 2,
     "metadata": {},
     "output_type": "execute_result"
    }
   ],
   "source": [
    "#This is a simple arithmetic expression to multiply then add integers\n",
    "(3*4)+5"
   ]
  },
  {
   "cell_type": "code",
   "execution_count": 3,
   "id": "4f226e8e",
   "metadata": {},
   "outputs": [
    {
     "data": {
      "text/plain": [
       "3.3333333333333335"
      ]
     },
     "execution_count": 3,
     "metadata": {},
     "output_type": "execute_result"
    }
   ],
   "source": [
    "#This will convert 200 minutes to hours by dividing by 60\n",
    "(200)/60"
   ]
  },
  {
   "cell_type": "code",
   "execution_count": null,
   "id": "92048bdd",
   "metadata": {},
   "outputs": [],
   "source": []
  }
 ],
 "metadata": {
  "kernelspec": {
   "display_name": "Python 3 (ipykernel)",
   "language": "python",
   "name": "python3"
  },
  "language_info": {
   "codemirror_mode": {
    "name": "ipython",
    "version": 3
   },
   "file_extension": ".py",
   "mimetype": "text/x-python",
   "name": "python",
   "nbconvert_exporter": "python",
   "pygments_lexer": "ipython3",
   "version": "3.9.12"
  }
 },
 "nbformat": 4,
 "nbformat_minor": 5
}
